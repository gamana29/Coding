{
  "nbformat": 4,
  "nbformat_minor": 0,
  "metadata": {
    "colab": {
      "provenance": [],
      "authorship_tag": "ABX9TyMo/vPvPfK1EAJYhfBPuWhp",
      "include_colab_link": true
    },
    "kernelspec": {
      "name": "python3",
      "display_name": "Python 3"
    },
    "language_info": {
      "name": "python"
    }
  },
  "cells": [
    {
      "cell_type": "markdown",
      "metadata": {
        "id": "view-in-github",
        "colab_type": "text"
      },
      "source": [
        "<a href=\"https://colab.research.google.com/github/gamana29/AIML/blob/main/Assignament2aiml_40075.ipynb\" target=\"_parent\"><img src=\"https://colab.research.google.com/assets/colab-badge.svg\" alt=\"Open In Colab\"/></a>"
      ]
    },
    {
      "cell_type": "markdown",
      "source": [
        "UNINFORMED SEARCH TECHNIQUE\n",
        "*   BFS ,DFS\n",
        "*   IDS\n",
        "\n"
      ],
      "metadata": {
        "id": "iXFZib-NVlMo"
      }
    },
    {
      "cell_type": "markdown",
      "source": [
        "1. Breadth-First Search (BFS)"
      ],
      "metadata": {
        "id": "OW-Q9xc1XZUh"
      }
    },
    {
      "cell_type": "code",
      "source": [
        "from collections import deque\n",
        "\n",
        "def bfs(graph, start, goal):\n",
        "    visited = set()\n",
        "    queue = deque([start])\n",
        "\n",
        "    while queue:\n",
        "        node = queue.popleft()\n",
        "        print(node, end=\" \")\n",
        "\n",
        "        if node == goal:\n",
        "            return True\n",
        "\n",
        "        visited.add(node)\n",
        "        for neighbor in graph[node]:\n",
        "            if neighbor not in visited and neighbor not in queue:\n",
        "                queue.append(neighbor)\n",
        "\n",
        "    return False\n",
        "\n",
        "# Run BFS\n",
        "print(\"\\nBFS path from A to P:\")\n",
        "bfs(graph, 'A', 'P')\n"
      ],
      "metadata": {
        "colab": {
          "base_uri": "https://localhost:8080/"
        },
        "id": "rA1NyT4-WrZq",
        "outputId": "b29820de-9116-497c-d1ef-82a4d476b982"
      },
      "execution_count": null,
      "outputs": [
        {
          "output_type": "stream",
          "name": "stdout",
          "text": [
            "\n",
            "BFS path from A to P:\n",
            "A B C D E F G H I J K L M N O P "
          ]
        },
        {
          "output_type": "execute_result",
          "data": {
            "text/plain": [
              "True"
            ]
          },
          "metadata": {},
          "execution_count": 9
        }
      ]
    },
    {
      "cell_type": "markdown",
      "source": [
        "2. Depth-First Search (DFS)"
      ],
      "metadata": {
        "id": "GSGdCPTCXpl0"
      }
    },
    {
      "cell_type": "code",
      "source": [
        "def dfs(graph, start, goal, visited=None):\n",
        "    if visited is None:\n",
        "        visited = set()\n",
        "\n",
        "    visited.add(start)\n",
        "    print(start, end=\" \")\n",
        "\n",
        "    if start == goal:\n",
        "        return True\n",
        "\n",
        "    for neighbor in graph[start]:\n",
        "        if neighbor not in visited:\n",
        "            if dfs(graph, neighbor, goal, visited):\n",
        "                return True\n",
        "\n",
        "    return False\n",
        "\n",
        "# Graph definition\n",
        "graph = {\n",
        "    'A': ['B', 'C', 'D'],\n",
        "    'B': ['E', 'F', 'G'],\n",
        "    'C': ['H'],\n",
        "    'D': ['I', 'J', 'K'],\n",
        "    'E': ['L'],\n",
        "    'F': ['M'],\n",
        "    'G': ['N'],\n",
        "    'H': ['O', 'P'],\n",
        "    'I': ['Q', 'R'],\n",
        "    'J': ['S'],\n",
        "    'K': ['T'],\n",
        "    'L': [],\n",
        "    'M': [],\n",
        "    'N': [],\n",
        "    'O': [],\n",
        "    'P': [],\n",
        "    'Q': [],\n",
        "    'R': [],\n",
        "    'S': [],\n",
        "    'T': []\n",
        "}\n",
        "\n",
        "# Run DFS\n",
        "print(\"DFS path from A to P:\")\n",
        "dfs(graph, 'A', 'P')\n"
      ],
      "metadata": {
        "colab": {
          "base_uri": "https://localhost:8080/"
        },
        "id": "jTvyAAUfXvHA",
        "outputId": "f84ad1d8-6715-4432-d05f-d594c6a2b9bd"
      },
      "execution_count": null,
      "outputs": [
        {
          "output_type": "stream",
          "name": "stdout",
          "text": [
            "DFS path from A to P:\n",
            "A B E L F M G N C H O P "
          ]
        },
        {
          "output_type": "execute_result",
          "data": {
            "text/plain": [
              "True"
            ]
          },
          "metadata": {},
          "execution_count": 8
        }
      ]
    },
    {
      "cell_type": "markdown",
      "source": [
        "3. Iterative Deepening Search (IDS)"
      ],
      "metadata": {
        "id": "IFgCxDHyX0Ir"
      }
    },
    {
      "cell_type": "code",
      "source": [
        "def dls(node, goal, depth, graph, visited):\n",
        "    if depth == 0:\n",
        "        return node == goal\n",
        "    if depth > 0:\n",
        "        visited.add(node)\n",
        "        for neighbor in graph.get(node, []):\n",
        "            if neighbor not in visited:\n",
        "                if dls(neighbor, goal, depth-1, graph, visited):\n",
        "                    return True\n",
        "        visited.remove(node)\n",
        "    return False\n",
        "\n",
        "def ids(graph, start, goal, max_depth):\n",
        "    for depth in range(max_depth):\n",
        "        visited = set()\n",
        "        print(f\"Depth: {depth}\")\n",
        "        if dls(start, goal, depth, graph, visited):\n",
        "            print(f\"\\nGoal {goal} found at depth {depth}\")\n",
        "            return True\n",
        "    print(f\"\\nGoal {goal} not found within depth {max_depth}\")\n",
        "    return False\n",
        "\n",
        "# Run IDS\n",
        "print(\"\\nIDS path from A to P:\")\n",
        "ids(graph, 'A', 'P', max_depth=10)\n"
      ],
      "metadata": {
        "colab": {
          "base_uri": "https://localhost:8080/"
        },
        "id": "-h9zhd9nX35U",
        "outputId": "4c49319d-6673-4cff-f022-699bd4f3e0d6"
      },
      "execution_count": null,
      "outputs": [
        {
          "output_type": "stream",
          "name": "stdout",
          "text": [
            "\n",
            "IDS path from A to P:\n",
            "Depth: 0\n",
            "Depth: 1\n",
            "Depth: 2\n",
            "Depth: 3\n",
            "\n",
            "Goal P found at depth 3\n"
          ]
        },
        {
          "output_type": "execute_result",
          "data": {
            "text/plain": [
              "True"
            ]
          },
          "metadata": {},
          "execution_count": 10
        }
      ]
    },
    {
      "cell_type": "markdown",
      "source": [
        "INFORMED SEARCH TECHNIQUES\n",
        "1.   A*\n",
        "2.   BFS\n",
        "\n"
      ],
      "metadata": {
        "id": "2w7ijqaqVu7M"
      }
    },
    {
      "cell_type": "markdown",
      "source": [
        "1. A* Search"
      ],
      "metadata": {
        "id": "EN2vKf5mYISg"
      }
    },
    {
      "cell_type": "code",
      "source": [
        "from heapq import heappop, heappush\n",
        "\n",
        "def a_star(graph, start, goal, h):\n",
        "    open_list = []\n",
        "    heappush(open_list, (0, start))\n",
        "    g = {start: 0}\n",
        "    came_from = {}\n",
        "\n",
        "    while open_list:\n",
        "        _, current = heappop(open_list)\n",
        "\n",
        "        if current == goal:\n",
        "            path = []\n",
        "            while current in came_from:\n",
        "                path.append(current)\n",
        "                current = came_from[current]\n",
        "            path.append(start)\n",
        "            path.reverse()\n",
        "            return path\n",
        "\n",
        "        for neighbor in graph[current]:\n",
        "            tentative_g = g[current] + graph[current][neighbor]\n",
        "            if neighbor not in g or tentative_g < g[neighbor]:\n",
        "                g[neighbor] = tentative_g\n",
        "                f = tentative_g + h(neighbor)\n",
        "                heappush(open_list, (f, neighbor))\n",
        "                came_from[neighbor] = current\n",
        "\n",
        "    return None\n",
        "\n",
        "# Graph definition with edge costs\n",
        "graph = {\n",
        "    'A': {'B': 1, 'C': 3, 'D': 2},\n",
        "    'B': {'E': 5, 'F': 3, 'G': 4},\n",
        "    'C': {'H': 2},\n",
        "    'D': {'I': 4, 'J': 6, 'K': 3},\n",
        "    'E': {'L': 2},\n",
        "    'F': {'M': 4},\n",
        "    'G': {'N': 3},\n",
        "    'H': {'O': 2, 'P': 1},\n",
        "    'I': {'Q': 3, 'R': 4},\n",
        "    'J': {'S': 5},\n",
        "    'K': {'T': 3},\n",
        "    'L': {},\n",
        "    'M': {},\n",
        "    'N': {},\n",
        "    'O': {},\n",
        "    'P': {},\n",
        "    'Q': {},\n",
        "    'R': {},\n",
        "    'S': {},\n",
        "    'T': {}\n",
        "}\n",
        "\n",
        "# Heuristic function (arbitrary values for simplicity)\n",
        "def heuristic(node):\n",
        "    h_values = {\n",
        "        'A': 8, 'B': 6, 'C': 5, 'D': 7,\n",
        "        'E': 5, 'F': 4, 'G': 3, 'H': 2,\n",
        "        'I': 6, 'J': 4, 'K': 3, 'L': 4,\n",
        "        'M': 3, 'N': 2, 'O': 1, 'P': 0,\n",
        "        'Q': 5, 'R': 4, 'S': 3, 'T': 2\n",
        "    }\n",
        "    return h_values.get(node, 0)\n",
        "\n",
        "# Run A* Search\n",
        "print(\"A* path from A to P:\")\n",
        "path = a_star(graph, 'A', 'P', heuristic)\n",
        "print(path)\n"
      ],
      "metadata": {
        "colab": {
          "base_uri": "https://localhost:8080/"
        },
        "id": "8zObWFq9YJ-O",
        "outputId": "0c9de446-7657-4d2a-f852-8568f4c18f31"
      },
      "execution_count": null,
      "outputs": [
        {
          "output_type": "stream",
          "name": "stdout",
          "text": [
            "A* path from A to P:\n",
            "['A', 'C', 'H', 'P']\n"
          ]
        }
      ]
    },
    {
      "cell_type": "markdown",
      "source": [
        "2. Best-First Search (BFS)"
      ],
      "metadata": {
        "id": "VZBGTE8AYR_X"
      }
    },
    {
      "cell_type": "code",
      "source": [
        "from heapq import heappop, heappush\n",
        "\n",
        "def best_first_search(graph, start, goal, h):\n",
        "    open_list = []\n",
        "    heappush(open_list, (h(start), start))\n",
        "    came_from = {}\n",
        "\n",
        "    while open_list:\n",
        "        _, current = heappop(open_list)\n",
        "\n",
        "        if current == goal:\n",
        "            path = []\n",
        "            while current in came_from:\n",
        "                path.append(current)\n",
        "                current = came_from[current]\n",
        "            path.append(start)\n",
        "            path.reverse()\n",
        "            return path\n",
        "\n",
        "        for neighbor in graph[current]:\n",
        "            if neighbor not in came_from:\n",
        "                heappush(open_list, (h(neighbor), neighbor))\n",
        "                came_from[neighbor] = current\n",
        "\n",
        "    return None\n",
        "\n",
        "# Run Best-First Search\n",
        "print(\"\\nBest-First Search path from A to P:\")\n",
        "path = best_first_search(graph, 'A', 'P', heuristic)\n",
        "print(path)\n"
      ],
      "metadata": {
        "colab": {
          "base_uri": "https://localhost:8080/"
        },
        "id": "U_WkKnwmYXKo",
        "outputId": "47b9e01f-fe70-4ac8-ab9b-f51ed63eafdd"
      },
      "execution_count": null,
      "outputs": [
        {
          "output_type": "stream",
          "name": "stdout",
          "text": [
            "\n",
            "Best-First Search path from A to P:\n",
            "['A', 'C', 'H', 'P']\n"
          ]
        }
      ]
    },
    {
      "cell_type": "markdown",
      "source": [
        "ADVERSAL SEARCH TECHNIQUE\n",
        "1.   Min-Max\n",
        "2.   Alpha beta\n",
        "\n"
      ],
      "metadata": {
        "id": "4-LySo2DV4Ub"
      }
    },
    {
      "cell_type": "markdown",
      "source": [
        "1. Minimax Algorithm"
      ],
      "metadata": {
        "id": "v0B6Tm_AYzFf"
      }
    },
    {
      "cell_type": "code",
      "source": [
        "def minimax(depth, nodeIndex, maximizingPlayer, values, alpha, beta):\n",
        "    # Base case: leaf node is reached\n",
        "    if depth == 3:\n",
        "        return values[nodeIndex]\n",
        "\n",
        "    if maximizingPlayer:\n",
        "        best = float('-inf')\n",
        "        # Recur for left and right children\n",
        "        for i in range(2):\n",
        "            val = minimax(depth + 1, nodeIndex * 2 + i, False, values, alpha, beta)\n",
        "            best = max(best, val)\n",
        "        return best\n",
        "    else:\n",
        "        best = float('inf')\n",
        "        # Recur for left and right children\n",
        "        for i in range(2):\n",
        "            val = minimax(depth + 1, nodeIndex * 2 + i, True, values, alpha, beta)\n",
        "            best = min(best, val)\n",
        "        return best\n",
        "\n",
        "# Example usage:\n",
        "values = [3, 5, 6, 9, 1, 2, 0, -1]  # Terminal nodes (leaf nodes)\n",
        "print(\"The optimal value is:\", minimax(0, 0, True, values, float('-inf'), float('inf')))\n"
      ],
      "metadata": {
        "colab": {
          "base_uri": "https://localhost:8080/"
        },
        "id": "rjpWqaSzY0-2",
        "outputId": "f762266f-6d0a-4e75-f9a7-0d518435dde4"
      },
      "execution_count": null,
      "outputs": [
        {
          "output_type": "stream",
          "name": "stdout",
          "text": [
            "The optimal value is: 5\n"
          ]
        }
      ]
    },
    {
      "cell_type": "markdown",
      "source": [
        "2. Alpha-Beta Pruning"
      ],
      "metadata": {
        "id": "x4g7gYuaY51P"
      }
    },
    {
      "cell_type": "code",
      "source": [
        "def minimax_alpha_beta(depth, nodeIndex, maximizingPlayer, values, alpha, beta):\n",
        "    # Base case: leaf node is reached\n",
        "    if depth == 3:\n",
        "        return values[nodeIndex]\n",
        "\n",
        "    if maximizingPlayer:\n",
        "        best = float('-inf')\n",
        "        # Recur for left and right children\n",
        "        for i in range(2):\n",
        "            val = minimax_alpha_beta(depth + 1, nodeIndex * 2 + i, False, values, alpha, beta)\n",
        "            best = max(best, val)\n",
        "            alpha = max(alpha, best)\n",
        "            # Alpha Beta Pruning\n",
        "            if beta <= alpha:\n",
        "                break\n",
        "        return best\n",
        "    else:\n",
        "        best = float('inf')\n",
        "        # Recur for left and right children\n",
        "        for i in range(2):\n",
        "            val = minimax_alpha_beta(depth + 1, nodeIndex * 2 + i, True, values, alpha, beta)\n",
        "            best = min(best, val)\n",
        "            beta = min(beta, best)\n",
        "            # Alpha Beta Pruning\n",
        "            if beta <= alpha:\n",
        "                break\n",
        "        return best\n",
        "\n",
        "# Example usage:\n",
        "values = [3, 5, 6, 9, 1, 2, 0, -1]  # Terminal nodes (leaf nodes)\n",
        "print(\"The optimal value with Alpha-Beta Pruning is:\", minimax_alpha_beta(0, 0, True, values, float('-inf'), float('inf')))\n"
      ],
      "metadata": {
        "colab": {
          "base_uri": "https://localhost:8080/"
        },
        "id": "8wIMjYoJY-rd",
        "outputId": "67c0baca-aae9-460d-f249-6ddee7fb9dba"
      },
      "execution_count": null,
      "outputs": [
        {
          "output_type": "stream",
          "name": "stdout",
          "text": [
            "The optimal value with Alpha-Beta Pruning is: 5\n"
          ]
        }
      ]
    }
  ]
}